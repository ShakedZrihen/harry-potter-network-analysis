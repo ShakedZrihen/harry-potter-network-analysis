{
 "metadata": {
  "language_info": {
   "codemirror_mode": {
    "name": "ipython",
    "version": 3
   },
   "file_extension": ".py",
   "mimetype": "text/x-python",
   "name": "python",
   "nbconvert_exporter": "python",
   "pygments_lexer": "ipython3",
   "version": "3.8.5"
  },
  "orig_nbformat": 2,
  "kernelspec": {
   "name": "python385jvsc74a57bd03ab39b4e1de3159d52045486333337f1b6db1149bc7289e2658eb2d8b08609c5",
   "display_name": "Python 3.8.5 64-bit ('base': conda)"
  }
 },
 "nbformat": 4,
 "nbformat_minor": 2,
 "cells": [
  {
   "cell_type": "code",
   "execution_count": 10,
   "metadata": {},
   "outputs": [],
   "source": [
    "import pandas as pd\n",
    "import networkx as nx \n",
    "%matplotlib inline\n",
    "### Full relation network ###\n",
    "# Load Edges\n",
    "\n",
    "G_df = pd.read_csv('cleanRelations.csv', delimiter=',')\n",
    "G = nx.from_pandas_edgelist(G_df, 'name1', 'name2', edge_attr='relation')\n",
    "\n",
    "# Load Nodes\n",
    "\n",
    "nodes = pd.read_json('clean_characters.json')\n",
    "nodes_tuples = [(node['Name'], node) for index, node in nodes.iterrows()]\n",
    "G.add_nodes_from(nodes_tuples)\n",
    "\n"
   ]
  },
  {
   "cell_type": "code",
   "execution_count": 11,
   "metadata": {},
   "outputs": [],
   "source": [
    "nx.write_gpickle(G, \"HarryPotterFullNetwork.gpickle\")"
   ]
  },
  {
   "cell_type": "code",
   "execution_count": 13,
   "metadata": {},
   "outputs": [],
   "source": [
    "### Full friends only network ###\n",
    "# Load Edges\n",
    "\n",
    "G1_df = pd.read_csv('friends_relations.csv', delimiter=',')\n",
    "G1 = nx.from_pandas_edgelist(G1_df, 'name1', 'name2')\n",
    "\n",
    "# Load Nodes\n",
    "\n",
    "nodes = pd.read_json('clean_characters.json')\n",
    "nodes_tuples = [(node['Name'], node) for index, node in nodes.iterrows()]\n",
    "G1.add_nodes_from(nodes_tuples)"
   ]
  },
  {
   "cell_type": "code",
   "execution_count": 14,
   "metadata": {},
   "outputs": [],
   "source": [
    "nx.write_gpickle(G1, \"HarryPotterFullNetwork-friends.gpickle\")"
   ]
  },
  {
   "cell_type": "code",
   "execution_count": null,
   "metadata": {},
   "outputs": [],
   "source": []
  }
 ]
}