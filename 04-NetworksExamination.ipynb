{
 "metadata": {
  "language_info": {
   "codemirror_mode": {
    "name": "ipython",
    "version": 3
   },
   "file_extension": ".py",
   "mimetype": "text/x-python",
   "name": "python",
   "nbconvert_exporter": "python",
   "pygments_lexer": "ipython3",
   "version": "3.8.5"
  },
  "orig_nbformat": 2,
  "kernelspec": {
   "name": "python385jvsc74a57bd03ab39b4e1de3159d52045486333337f1b6db1149bc7289e2658eb2d8b08609c5",
   "display_name": "Python 3.8.5 64-bit ('base': conda)"
  }
 },
 "nbformat": 4,
 "nbformat_minor": 2,
 "cells": [
  {
   "cell_type": "code",
   "execution_count": 53,
   "metadata": {},
   "outputs": [
    {
     "output_type": "execute_result",
     "data": {
      "text/plain": [
       "0"
      ]
     },
     "metadata": {},
     "execution_count": 53
    }
   ],
   "source": [
    "import networkx as nx\n",
    "%matplotlib inline \n",
    "import pandas as pd\n",
    "\n",
    "G = nx.MultiDiGraph() \n",
    "G.add_edge('Ron Weasley', 'Hermione Granger', relation = 'friend', weight = 8)\n",
    "G.add_edge('Hermione Granger', 'Harry Potter', relation = 'friend', weight = 6)\n",
    "G.add_edge('Harry Potter', 'Ron Weasley', relation = 'friend', weight = 10)\n",
    "G.add_edge('Draco Malfoy', 'Harry Potter', relation = 'enemy', weight = -8)\n",
    "G.add_edge('Draco Malfoy', 'Harry Potter', relation = 'classmate', weight = -8)\n",
    "G.add_edge('Draco Malfoy', 'Hermione Granger', relation = 'enemy', weight = -2)"
   ]
  },
  {
   "cell_type": "code",
   "execution_count": 54,
   "metadata": {},
   "outputs": [
    {
     "output_type": "stream",
     "name": "stdout",
     "text": [
      "[('Ron Weasley', 'Hermione Granger', 0), ('Hermione Granger', 'Harry Potter', 0), ('Harry Potter', 'Ron Weasley', 0), ('Draco Malfoy', 'Harry Potter', 0), ('Draco Malfoy', 'Harry Potter', 1), ('Draco Malfoy', 'Hermione Granger', 0)]\n"
     ]
    }
   ],
   "source": [
    "# show edges\n",
    "\n",
    "print(G.edges)"
   ]
  },
  {
   "cell_type": "code",
   "execution_count": 55,
   "metadata": {},
   "outputs": [
    {
     "output_type": "stream",
     "name": "stdout",
     "text": [
      "[('Ron Weasley', 'Hermione Granger', {'relation': 'friend', 'weight': 8}), ('Hermione Granger', 'Harry Potter', {'relation': 'friend', 'weight': 6}), ('Harry Potter', 'Ron Weasley', {'relation': 'friend', 'weight': 10}), ('Draco Malfoy', 'Harry Potter', {'relation': 'enemy', 'weight': -8}), ('Draco Malfoy', 'Harry Potter', {'relation': 'classmate', 'weight': -8}), ('Draco Malfoy', 'Hermione Granger', {'relation': 'enemy', 'weight': -2})]\n"
     ]
    }
   ],
   "source": [
    "print(G.edges(data=True))"
   ]
  },
  {
   "cell_type": "code",
   "execution_count": 56,
   "metadata": {},
   "outputs": [
    {
     "output_type": "stream",
     "name": "stdout",
     "text": [
      "[('Ron Weasley', 'Hermione Granger', 'friend'), ('Hermione Granger', 'Harry Potter', 'friend'), ('Harry Potter', 'Ron Weasley', 'friend'), ('Draco Malfoy', 'Harry Potter', 'enemy'), ('Draco Malfoy', 'Harry Potter', 'classmate'), ('Draco Malfoy', 'Hermione Granger', 'enemy')]\n"
     ]
    }
   ],
   "source": [
    "print(G.edges(data='relation'))"
   ]
  },
  {
   "cell_type": "code",
   "execution_count": 57,
   "metadata": {},
   "outputs": [
    {
     "output_type": "stream",
     "name": "stdout",
     "text": [
      "[('Ron Weasley', {'school': 'Hogwarts', 'house': 'Gryffindor'}), ('Hermione Granger', {'school': 'Hogwarts', 'house': 'Gryffindor'}), ('Harry Potter', {'school': 'Hogwarts', 'house': 'Gryffindor'}), ('Draco Malfoy', {'school': 'Hogwarts', 'house': 'Slytherin'})]\n"
     ]
    }
   ],
   "source": [
    "# show nodes\n",
    "\n",
    "G.add_node('Harry Potter', school = 'Hogwarts', house = 'Gryffindor')\n",
    "G.add_node('Ron Weasley', school = 'Hogwarts', house = 'Gryffindor')\n",
    "G.add_node('Hermione Granger', school = 'Hogwarts', house = 'Gryffindor')\n",
    "G.add_node('Draco Malfoy', school = 'Hogwarts', house = 'Slytherin')\n",
    "\n",
    "print(G.nodes(data=True)) "
   ]
  },
  {
   "cell_type": "code",
   "execution_count": 58,
   "metadata": {},
   "outputs": [
    {
     "output_type": "stream",
     "name": "stdout",
     "text": [
      "{'Ron Weasley': {0: {'relation': 'friend', 'weight': 10}}}\n"
     ]
    }
   ],
   "source": [
    "print(G['Harry Potter'])"
   ]
  },
  {
   "cell_type": "code",
   "execution_count": 61,
   "metadata": {},
   "outputs": [
    {
     "output_type": "error",
     "ename": "KeyError",
     "evalue": "'Draco Malfoy'",
     "traceback": [
      "\u001b[0;31m---------------------------------------------------------------------------\u001b[0m",
      "\u001b[0;31mKeyError\u001b[0m                                  Traceback (most recent call last)",
      "\u001b[0;32m<ipython-input-61-4e1f1c503bee>\u001b[0m in \u001b[0;36m<module>\u001b[0;34m\u001b[0m\n\u001b[0;32m----> 1\u001b[0;31m \u001b[0mprint\u001b[0m\u001b[0;34m(\u001b[0m\u001b[0mG\u001b[0m\u001b[0;34m[\u001b[0m\u001b[0;34m'Harry Potter'\u001b[0m\u001b[0;34m]\u001b[0m\u001b[0;34m[\u001b[0m\u001b[0;34m'Draco Malfoy'\u001b[0m\u001b[0;34m]\u001b[0m\u001b[0;34m)\u001b[0m\u001b[0;34m\u001b[0m\u001b[0;34m\u001b[0m\u001b[0m\n\u001b[0m",
      "\u001b[0;32m~/opt/anaconda3/lib/python3.8/site-packages/networkx/classes/coreviews.py\u001b[0m in \u001b[0;36m__getitem__\u001b[0;34m(self, name)\u001b[0m\n\u001b[1;32m     77\u001b[0m \u001b[0;34m\u001b[0m\u001b[0m\n\u001b[1;32m     78\u001b[0m     \u001b[0;32mdef\u001b[0m \u001b[0m__getitem__\u001b[0m\u001b[0;34m(\u001b[0m\u001b[0mself\u001b[0m\u001b[0;34m,\u001b[0m \u001b[0mname\u001b[0m\u001b[0;34m)\u001b[0m\u001b[0;34m:\u001b[0m\u001b[0;34m\u001b[0m\u001b[0;34m\u001b[0m\u001b[0m\n\u001b[0;32m---> 79\u001b[0;31m         \u001b[0;32mreturn\u001b[0m \u001b[0mAtlasView\u001b[0m\u001b[0;34m(\u001b[0m\u001b[0mself\u001b[0m\u001b[0;34m.\u001b[0m\u001b[0m_atlas\u001b[0m\u001b[0;34m[\u001b[0m\u001b[0mname\u001b[0m\u001b[0;34m]\u001b[0m\u001b[0;34m)\u001b[0m\u001b[0;34m\u001b[0m\u001b[0;34m\u001b[0m\u001b[0m\n\u001b[0m\u001b[1;32m     80\u001b[0m \u001b[0;34m\u001b[0m\u001b[0m\n\u001b[1;32m     81\u001b[0m     \u001b[0;32mdef\u001b[0m \u001b[0mcopy\u001b[0m\u001b[0;34m(\u001b[0m\u001b[0mself\u001b[0m\u001b[0;34m)\u001b[0m\u001b[0;34m:\u001b[0m\u001b[0;34m\u001b[0m\u001b[0;34m\u001b[0m\u001b[0m\n",
      "\u001b[0;31mKeyError\u001b[0m: 'Draco Malfoy'"
     ]
    }
   ],
   "source": [
    "print(G['Harry Potter']['Draco Malfoy']) # Di-Grph "
   ]
  },
  {
   "cell_type": "code",
   "execution_count": 64,
   "metadata": {},
   "outputs": [
    {
     "output_type": "stream",
     "name": "stdout",
     "text": [
      "{0: {'relation': 'enemy', 'weight': -8}, 1: {'relation': 'classmate', 'weight': -8}}\n"
     ]
    }
   ],
   "source": [
    "print(G['Draco Malfoy']['Harry Potter'])"
   ]
  },
  {
   "cell_type": "code",
   "execution_count": 62,
   "metadata": {},
   "outputs": [
    {
     "output_type": "error",
     "ename": "KeyError",
     "evalue": "'Draco Malfoy'",
     "traceback": [
      "\u001b[0;31m---------------------------------------------------------------------------\u001b[0m",
      "\u001b[0;31mKeyError\u001b[0m                                  Traceback (most recent call last)",
      "\u001b[0;32m<ipython-input-62-e83bc114beb9>\u001b[0m in \u001b[0;36m<module>\u001b[0;34m\u001b[0m\n\u001b[0;32m----> 1\u001b[0;31m \u001b[0mprint\u001b[0m\u001b[0;34m(\u001b[0m\u001b[0mG\u001b[0m\u001b[0;34m[\u001b[0m\u001b[0;34m'Harry Potter'\u001b[0m\u001b[0;34m]\u001b[0m\u001b[0;34m[\u001b[0m\u001b[0;34m'Draco Malfoy'\u001b[0m\u001b[0;34m]\u001b[0m\u001b[0;34m[\u001b[0m\u001b[0;34m'relation'\u001b[0m\u001b[0;34m]\u001b[0m\u001b[0;34m)\u001b[0m \u001b[0;31m# because it is multi - should provide index\u001b[0m\u001b[0;34m\u001b[0m\u001b[0;34m\u001b[0m\u001b[0m\n\u001b[0m",
      "\u001b[0;32m~/opt/anaconda3/lib/python3.8/site-packages/networkx/classes/coreviews.py\u001b[0m in \u001b[0;36m__getitem__\u001b[0;34m(self, name)\u001b[0m\n\u001b[1;32m     77\u001b[0m \u001b[0;34m\u001b[0m\u001b[0m\n\u001b[1;32m     78\u001b[0m     \u001b[0;32mdef\u001b[0m \u001b[0m__getitem__\u001b[0m\u001b[0;34m(\u001b[0m\u001b[0mself\u001b[0m\u001b[0;34m,\u001b[0m \u001b[0mname\u001b[0m\u001b[0;34m)\u001b[0m\u001b[0;34m:\u001b[0m\u001b[0;34m\u001b[0m\u001b[0;34m\u001b[0m\u001b[0m\n\u001b[0;32m---> 79\u001b[0;31m         \u001b[0;32mreturn\u001b[0m \u001b[0mAtlasView\u001b[0m\u001b[0;34m(\u001b[0m\u001b[0mself\u001b[0m\u001b[0;34m.\u001b[0m\u001b[0m_atlas\u001b[0m\u001b[0;34m[\u001b[0m\u001b[0mname\u001b[0m\u001b[0;34m]\u001b[0m\u001b[0;34m)\u001b[0m\u001b[0;34m\u001b[0m\u001b[0;34m\u001b[0m\u001b[0m\n\u001b[0m\u001b[1;32m     80\u001b[0m \u001b[0;34m\u001b[0m\u001b[0m\n\u001b[1;32m     81\u001b[0m     \u001b[0;32mdef\u001b[0m \u001b[0mcopy\u001b[0m\u001b[0;34m(\u001b[0m\u001b[0mself\u001b[0m\u001b[0;34m)\u001b[0m\u001b[0;34m:\u001b[0m\u001b[0;34m\u001b[0m\u001b[0;34m\u001b[0m\u001b[0m\n",
      "\u001b[0;31mKeyError\u001b[0m: 'Draco Malfoy'"
     ]
    }
   ],
   "source": [
    "print(G['Harry Potter']['Draco Malfoy']['relation']) # because it is multi - should provide index"
   ]
  },
  {
   "cell_type": "code",
   "execution_count": 65,
   "metadata": {},
   "outputs": [
    {
     "output_type": "stream",
     "name": "stdout",
     "text": [
      "enemy\nclassmate\n"
     ]
    }
   ],
   "source": [
    "print(G['Draco Malfoy']['Harry Potter'][0]['relation']) \n",
    "print(G['Draco Malfoy']['Harry Potter'][1]['relation']) "
   ]
  }
 ]
}